{
 "cells": [
  {
   "cell_type": "code",
   "execution_count": 64,
   "id": "6e677632",
   "metadata": {},
   "outputs": [
    {
     "name": "stderr",
     "output_type": "stream",
     "text": [
      "[nltk_data] Downloading package averaged_perceptron_tagger to\n",
      "[nltk_data]     C:\\Users\\nshet\\AppData\\Roaming\\nltk_data...\n",
      "[nltk_data]   Unzipping taggers\\averaged_perceptron_tagger.zip.\n"
     ]
    },
    {
     "data": {
      "text/plain": [
       "True"
      ]
     },
     "execution_count": 64,
     "metadata": {},
     "output_type": "execute_result"
    }
   ],
   "source": [
    "import numpy as np\n",
    "import nltk\n",
    "nltk.download('averaged_perceptron_tagger')"
   ]
  },
  {
   "cell_type": "markdown",
   "id": "551bb7a4",
   "metadata": {},
   "source": [
    "## Tokenization\n",
    "### \n",
    "##### Tokenization is the first step in text analytics. The process of breaking down a text paragraph into smaller chunks such as words or sentence is called Tokenization. Token is a single entity that is building blocks for sentence or paragraph."
   ]
  },
  {
   "cell_type": "markdown",
   "id": "f8d5a544",
   "metadata": {},
   "source": [
    "### Sentence Tokenization\n",
    "\n",
    "#### Sentence tokenizer breaks text paragraph into sentences."
   ]
  },
  {
   "cell_type": "code",
   "execution_count": 38,
   "id": "5a0795e4",
   "metadata": {},
   "outputs": [
    {
     "name": "stdout",
     "output_type": "stream",
     "text": [
      "['Hello Dane Joe !', 'How are you doing today ?', \"I hope you're feelling better that yesterday.\", 'I will get you food with-in the hour, would you like somthing to drink too ?', \"Looks like it's going to rain today.\"]\n"
     ]
    }
   ],
   "source": [
    "from nltk import sent_tokenize\n",
    "para  = \"\"\"Hello Dane Joe ! \n",
    "        How are you doing today ?\n",
    "        I hope you're feelling better that yesterday.\n",
    "        I will get you food with-in the hour, would you like somthing to drink too ?\n",
    "        Looks like it's going to rain today.\"\"\"\n",
    "\n",
    "tokenized_sent = sent_tokenize(para)\n",
    "print(tokenized_sent)"
   ]
  },
  {
   "cell_type": "markdown",
   "id": "b1b3b99c",
   "metadata": {},
   "source": [
    "### Word Tokenization\n",
    "#### Word tokenizer breaks text paragraph or sentences into words."
   ]
  },
  {
   "cell_type": "code",
   "execution_count": 39,
   "id": "df1b6530",
   "metadata": {},
   "outputs": [
    {
     "name": "stdout",
     "output_type": "stream",
     "text": [
      "['Hello', 'Dane', 'Joe', '!', 'How', 'are', 'you', 'doing', 'today', '?', 'I', 'hope', 'you', \"'re\", 'feelling', 'better', 'that', 'yesterday', '.', 'I', 'will', 'get', 'you', 'food', 'with-in', 'the', 'hour', ',', 'would', 'you', 'like', 'somthing', 'to', 'drink', 'too', '?', 'Looks', 'like', 'its', 'going', 'to', 'rain', 'today', '.']\n"
     ]
    }
   ],
   "source": [
    "from nltk import word_tokenize\n",
    "para = \"\"\"Hello Dane Joe ! \n",
    "        How are you doing today ?\n",
    "        I hope you're feelling better that yesterday.\n",
    "        I will get you food with-in the hour, would you like somthing to drink too ?\n",
    "        Looks like its going to rain today.\"\"\"\n",
    "\n",
    "tokenized_words = word_tokenize(para)\n",
    "print(tokenized_words)"
   ]
  },
  {
   "cell_type": "markdown",
   "id": "19499c2d",
   "metadata": {},
   "source": [
    "### Frequency Distribution\n",
    "#### Helpful for finding most common words and plotting vocab in data"
   ]
  },
  {
   "cell_type": "code",
   "execution_count": 40,
   "id": "68878a25",
   "metadata": {},
   "outputs": [
    {
     "name": "stdout",
     "output_type": "stream",
     "text": [
      "<FreqDist with 35 samples and 44 outcomes>\n"
     ]
    }
   ],
   "source": [
    "from nltk.probability import FreqDist\n",
    "\n",
    "fdist = FreqDist(tokenized_words)\n",
    "print(fdist)"
   ]
  },
  {
   "cell_type": "code",
   "execution_count": 41,
   "id": "10d31eec",
   "metadata": {},
   "outputs": [
    {
     "data": {
      "text/plain": [
       "[('you', 4), ('today', 2)]"
      ]
     },
     "execution_count": 41,
     "metadata": {},
     "output_type": "execute_result"
    }
   ],
   "source": [
    "fdist.most_common(2)\n"
   ]
  },
  {
   "cell_type": "code",
   "execution_count": 42,
   "id": "06a83cb4",
   "metadata": {},
   "outputs": [
    {
     "data": {
      "image/png": "[encoded data removed]",
      "text/plain": [
       "<Figure size 432x288 with 1 Axes>"
      ]
     },
     "metadata": {
      "needs_background": "light"
     },
     "output_type": "display_data"
    }
   ],
   "source": [
    "# plotting distribution\n",
    "import matplotlib.pyplot as plt\n",
    "\n",
    "fdist.plot(35, cumulative=False)\n",
    "plt.show()\n"
   ]
  },
  {
   "cell_type": "markdown",
   "id": "acb64975",
   "metadata": {},
   "source": [
    "### Stopwords\n",
    "##### Stopwords considered as noise in the text. Text may contain stop words such as is, am, are, this, a, an, the, etc.\n",
    "\n",
    "##### In NLTK for removing stopwords, you need to create a list of stopwords and filter out your list of tokens from these words."
   ]
  },
  {
   "cell_type": "code",
   "execution_count": 43,
   "id": "a3d5bdde",
   "metadata": {},
   "outputs": [
    {
     "name": "stdout",
     "output_type": "stream",
     "text": [
      "{'the', 'ourselves', 'most', 'wouldn', 've', 't', 'any', 'few', 'needn', 'theirs', 'him', 'in', 'mightn', 'whom', 'ma', 'between', 'ours', 'be', 'before', \"won't\", 'to', 'that', 'same', 'each', 'shan', 'with', 'off', 'yourself', 'been', 'on', 'both', 'here', \"mustn't\", 'some', 'not', 'themselves', 'haven', 'hasn', 'our', \"you'll\", 'we', 'won', 'ain', 'yourselves', 'they', 'out', \"hadn't\", 'don', 'own', 'its', 'at', 'you', 'being', 'how', \"isn't\", 'if', 'so', 'his', \"couldn't\", 'such', 'no', 'just', \"you'd\", 'have', 'after', 'it', 's', 'isn', 'than', 'yours', 'i', 'into', 'because', 'again', 'an', 'mustn', 'what', 'doing', 'aren', 'there', \"should've\", \"that'll\", 'her', 'he', 'does', 'but', \"hasn't\", 'are', \"she's\", 'during', 'all', 'couldn', \"didn't\", 'now', 'itself', \"you've\", 'll', \"wouldn't\", 'will', \"don't\", 'did', 'only', \"weren't\", 'very', 'himself', 'am', 'were', 'for', 'as', 'by', 'nor', 'my', 'too', 'herself', 'do', 'has', 'other', \"mightn't\", 'when', 'against', 'd', \"needn't\", 'once', 'of', 'hers', 'm', 'hadn', 'more', 'down', 'then', 'which', 'having', 'who', 'further', 'why', \"shouldn't\", \"shan't\", 'y', 'below', \"you're\", \"it's\", 'had', 'until', 'didn', 'doesn', \"aren't\", 'their', \"wasn't\", 'your', 'can', 'is', 'them', 'above', 'from', 'where', 'or', 'about', 'while', 'up', 'me', 'those', 'over', 'was', 'should', \"haven't\", 'shouldn', 'through', 'o', \"doesn't\", 'she', 'a', 're', 'and', 'wasn', 'this', 'weren', 'myself', 'these', 'under'}\n"
     ]
    }
   ],
   "source": [
    "from nltk.corpus import stopwords\n",
    "stop_words = set(stopwords.words('english'))\n",
    "print(stop_words)"
   ]
  },
  {
   "cell_type": "code",
   "execution_count": 48,
   "id": "d0ea3671",
   "metadata": {},
   "outputs": [
    {
     "name": "stdout",
     "output_type": "stream",
     "text": [
      "Tokenized Words:  ['Hello', 'Dane', 'Joe', '!', 'How', 'are', 'you', 'doing', 'today', '?', 'I', 'hope', 'you', \"'re\", 'feelling', 'better', 'that', 'yesterday', '.', 'I', 'will', 'get', 'you', 'food', 'with-in', 'the', 'hour', ',', 'would', 'you', 'like', 'somthing', 'to', 'drink', 'too', '?', 'Looks', 'like', 'its', 'going', 'to', 'rain', 'today', '.']\n",
      "\n",
      "Filtered Words:  ['Hello', 'Dane', 'Joe', '!', 'How', 'today', '?', 'I', 'hope', \"'re\", 'feelling', 'better', 'yesterday', '.', 'I', 'get', 'food', 'with-in', 'hour', ',', 'would', 'like', 'somthing', 'drink', '?', 'Looks', 'like', 'going', 'rain', 'today', '.']\n"
     ]
    }
   ],
   "source": [
    "# Remove stop words from tokenized_sentences\n",
    "filtered_sent = []\n",
    "for w in tokenized_words:\n",
    "    if w not in stop_words:\n",
    "        filtered_sent.append(w)\n",
    "        \n",
    "print(\"Tokenized Words: \", tokenized_words)\n",
    "print(\"\")\n",
    "print(\"Filtered Words: \", filtered_sent)"
   ]
  },
  {
   "cell_type": "markdown",
   "id": "bb642523",
   "metadata": {},
   "source": [
    "### Lexicon Normalization\n",
    "### \n",
    "##### Lexicon normalization considers another type of noise in the text. For example, connection, connected, connecting word reduce to a common word \"connect\". It reduces derivationally related forms of a word to a common root word."
   ]
  },
  {
   "cell_type": "markdown",
   "id": "7398ad95",
   "metadata": {},
   "source": [
    "### Stemming\n",
    "##### Stemming is a process of linguistic normalization, which reduces words to their word root word or chops off the derivational affixes. For example, connection, connected, connecting word reduce to a common word \"connect\"."
   ]
  },
  {
   "cell_type": "code",
   "execution_count": 51,
   "id": "834bb704",
   "metadata": {},
   "outputs": [
    {
     "name": "stdout",
     "output_type": "stream",
     "text": [
      "Filtered List:  ['Hello', 'Dane', 'Joe', '!', 'How', 'today', '?', 'I', 'hope', \"'re\", 'feelling', 'better', 'yesterday', '.', 'I', 'get', 'food', 'with-in', 'hour', ',', 'would', 'like', 'somthing', 'drink', '?', 'Looks', 'like', 'going', 'rain', 'today', '.']\n",
      "\n",
      "Stemmed List:  ['hello', 'dane', 'joe', '!', 'how', 'today', '?', 'i', 'hope', \"'re\", 'feell', 'better', 'yesterday', '.', 'i', 'get', 'food', 'with-in', 'hour', ',', 'would', 'like', 'somth', 'drink', '?', 'look', 'like', 'go', 'rain', 'today', '.']\n"
     ]
    }
   ],
   "source": [
    "from nltk.stem import PorterStemmer\n",
    "from nltk.tokenize import sent_tokenize, word_tokenize\n",
    "\n",
    "ps = PorterStemmer()\n",
    "\n",
    "stemmed_words = []\n",
    "for w in filtered_sent:\n",
    "    stemmed_words.append(ps.stem(w))\n",
    "    \n",
    "print(\"Filtered List: \", filtered_sent)\n",
    "print(\"\")\n",
    "print(\"Stemmed List: \", stemmed_words)\n"
   ]
  },
  {
   "cell_type": "markdown",
   "id": "2baf18aa",
   "metadata": {},
   "source": [
    "### Lemmatization\n",
    "##### Lemmatization reduces words to their base word, which is linguistically correct lemmas. It transforms root word with the use of vocabulary and morphological analysis. Lemmatization is usually more sophisticated than stemming. Stemmer works on an individual word without knowledge of the context. For example, The word \"better\" has \"good\" as its lemma. This thing will miss by stemming because it requires a dictionary look-up."
   ]
  },
  {
   "cell_type": "code",
   "execution_count": 62,
   "id": "7d94dd2e",
   "metadata": {},
   "outputs": [
    {
     "name": "stdout",
     "output_type": "stream",
     "text": [
      "Filtered : ['Hello', 'Dane', 'Joe', '!', 'How', 'today', '?', 'I', 'hope', \"'re\", 'feelling', 'better', 'yesterday', '.', 'I', 'get', 'food', 'with-in', 'hour', ',', 'would', 'like', 'somthing', 'drink', '?', 'Looks', 'like', 'going', 'rain', 'today', '.']\n",
      "\n",
      "Stemmed : ['hello', 'dane', 'joe', '!', 'how', 'today', '?', 'i', 'hope', \"'re\", 'feell', 'better', 'yesterday', '.', 'i', 'get', 'food', 'with-in', 'hour', ',', 'would', 'like', 'somth', 'drink', '?', 'look', 'like', 'go', 'rain', 'today', '.']\n",
      "\n",
      "Lemmatized : ['Hello', 'Dane', 'Joe', '!', 'How', 'today', '?', 'I', 'hope', \"'re\", 'feelling', 'better', 'yesterday', '.', 'I', 'get', 'food', 'with-in', 'hour', ',', 'would', 'like', 'somthing', 'drink', '?', 'Looks', 'like', 'go', 'rain', 'today', '.']\n",
      "\n",
      "------  Stupid ---------------\n",
      "Lemmatized Stemmed : ['hello', 'dane', 'joe', '!', 'how', 'today', '?', 'i', 'hope', \"'re\", 'feell', 'better', 'yesterday', '.', 'i', 'get', 'food', 'with-in', 'hour', ',', 'would', 'like', 'somth', 'drink', '?', 'look', 'like', 'go', 'rain', 'today', '.']\n"
     ]
    }
   ],
   "source": [
    "from nltk.stem import PorterStemmer\n",
    "from nltk.stem.wordnet import WordNetLemmatizer\n",
    "\n",
    "ps = PorterStemmer()\n",
    "lem = WordNetLemmatizer()\n",
    "\n",
    "stemmed_words = []\n",
    "lemmatized_words = []\n",
    "lemmatized_stemmed_words = []\n",
    "\n",
    "for w in filtered_sent:\n",
    "    stemmed_words.append(ps.stem(w))\n",
    "    lemmatized_words.append(lem.lemmatize(w, \"v\"))\n",
    "\n",
    "# for w in stemmed_words:\n",
    "#     lemmatized_stemmed_words.append(lem.lemmatize(w, \"v\"))\n",
    "    \n",
    "print(\"Filtered :\", filtered_sent)\n",
    "print(\"\")\n",
    "print(\"Stemmed :\", stemmed_words)\n",
    "print(\"\")\n",
    "print(\"Lemmatized :\", lemmatized_words)\n",
    "print(\"\")\n",
    "print(\"------  Stupid ---------------\")\n",
    "print(\"Lemmatized Stemmed :\", lemmatized_stemmed_words)"
   ]
  },
  {
   "cell_type": "markdown",
   "id": "478d8b2b",
   "metadata": {},
   "source": [
    "### POS Tagging\n",
    "##### The primary target of Part-of-Speech(POS) tagging is to identify the grammatical group of a given word. Whether it is a NOUN, PRONOUN, ADJECTIVE, VERB, ADVERBS, etc. based on the context. POS Tagging looks for relationships within the sentence and assigns a corresponding tag to the word."
   ]
  },
  {
   "cell_type": "code",
   "execution_count": 65,
   "id": "56390c34",
   "metadata": {},
   "outputs": [
    {
     "data": {
      "text/plain": [
       "[('Hello', 'NNP'),\n",
       " ('Dane', 'NNP'),\n",
       " ('Joe', 'NNP'),\n",
       " ('!', '.'),\n",
       " ('How', 'WRB'),\n",
       " ('today', 'NN'),\n",
       " ('?', '.'),\n",
       " ('I', 'PRP'),\n",
       " ('hope', 'VBP'),\n",
       " (\"'re\", 'VBP'),\n",
       " ('feelling', 'VBG'),\n",
       " ('better', 'JJR'),\n",
       " ('yesterday', 'NN'),\n",
       " ('.', '.'),\n",
       " ('I', 'PRP'),\n",
       " ('get', 'VBP'),\n",
       " ('food', 'NN'),\n",
       " ('with-in', 'JJ'),\n",
       " ('hour', 'NN'),\n",
       " (',', ','),\n",
       " ('would', 'MD'),\n",
       " ('like', 'VB'),\n",
       " ('somthing', 'VBG'),\n",
       " ('drink', 'VB'),\n",
       " ('?', '.'),\n",
       " ('Looks', 'NNP'),\n",
       " ('like', 'IN'),\n",
       " ('go', 'VBP'),\n",
       " ('rain', 'NN'),\n",
       " ('today', 'NN'),\n",
       " ('.', '.')]"
      ]
     },
     "execution_count": 65,
     "metadata": {},
     "output_type": "execute_result"
    }
   ],
   "source": [
    "nltk.pos_tag(lemmatized_words)\n"
   ]
  },
  {
   "cell_type": "code",
   "execution_count": null,
   "id": "0f0acee5",
   "metadata": {},
   "outputs": [],
   "source": []
  }
 ],
 "metadata": {
  "kernelspec": {
   "display_name": "unity_python_zeromq",
   "language": "python",
   "name": "unity_python_zeromq"
  },
  "language_info": {
   "codemirror_mode": {
    "name": "ipython",
    "version": 3
   },
   "file_extension": ".py",
   "mimetype": "text/x-python",
   "name": "python",
   "nbconvert_exporter": "python",
   "pygments_lexer": "ipython3",
   "version": "3.7.7"
  }
 },
 "nbformat": 4,
 "nbformat_minor": 5
}
