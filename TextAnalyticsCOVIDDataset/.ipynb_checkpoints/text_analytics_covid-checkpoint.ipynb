{
 "cells": [
  {
   "cell_type": "code",
   "execution_count": 30,
   "id": "b6fa3090",
   "metadata": {},
   "outputs": [
    {
     "name": "stderr",
     "output_type": "stream",
     "text": [
      "D:\\Documents\\Nihar\\virtual_env\\unity_python_zeromq\\lib\\site-packages\\IPython\\core\\interactiveshell.py:3063: DtypeWarning: Columns (1,4,5,6,13,14,15,16) have mixed types.Specify dtype option on import or set low_memory=False.\n",
      "  interactivity=interactivity, compiler=compiler, result=result)\n"
     ]
    },
    {
     "name": "stdout",
     "output_type": "stream",
     "text": [
      "   cord_uid                                       sha source_x  \\\n",
      "0  ug7v899j  d1aafb70c066a2068b02786f8929fd9c900897fb      PMC   \n",
      "1  02tnwd4m  6b0567729c2143a66d737eb0a2f63f2dce2e5a7d      PMC   \n",
      "2  ejv2xln0  06ced00a5fc04215949aa72528f2eeaae1d58927      PMC   \n",
      "3  2b73a28n  348055649b6b8cf2b9a376498df9bf41f7123605      PMC   \n",
      "4  9785vg6d  5f48792a5fa08bed9f56016f4981ae2ca6031b32      PMC   \n",
      "\n",
      "                                               title                    doi  \\\n",
      "0  Clinical features of culture-proven Mycoplasma...  10.1186/1471-2334-1-6   \n",
      "1  Nitric oxide: a pro-inflammatory mediator in l...           10.1186/rr14   \n",
      "2    Surfactant protein-D and pulmonary host defense           10.1186/rr19   \n",
      "3               Role of endothelin-1 in lung disease           10.1186/rr44   \n",
      "4  Gene expression in epithelial cells in respons...           10.1186/rr61   \n",
      "\n",
      "      pmcid pubmed_id license  \\\n",
      "0  PMC35282  11472636   no-cc   \n",
      "1  PMC59543  11667967   no-cc   \n",
      "2  PMC59549  11667972   no-cc   \n",
      "3  PMC59574  11686871   no-cc   \n",
      "4  PMC59580  11686888   no-cc   \n",
      "\n",
      "                                            abstract publish_time  \\\n",
      "0  OBJECTIVE: This retrospective chart review des...   2001-07-04   \n",
      "1  Inflammatory diseases of the respiratory tract...   2000-08-15   \n",
      "2  Surfactant protein-D (SP-D) participates in th...   2000-08-25   \n",
      "3  Endothelin-1 (ET-1) is a 21 amino acid peptide...   2001-02-22   \n",
      "4  Respiratory syncytial virus (RSV) and pneumoni...   2001-05-11   \n",
      "\n",
      "                                             authors         journal  mag_id  \\\n",
      "0                Madani, Tariq A; Al-Ghamdi, Aisha A  BMC Infect Dis     NaN   \n",
      "1  Vliet, Albert van der; Eiserich, Jason P; Cros...      Respir Res     NaN   \n",
      "2                                    Crouch, Erika C      Respir Res     NaN   \n",
      "3  Fagan, Karen A; McMurtry, Ivan F; Rodman, David M      Respir Res     NaN   \n",
      "4  Domachowske, Joseph B; Bonville, Cynthia A; Ro...      Respir Res     NaN   \n",
      "\n",
      "  who_covidence_id arxiv_id  \\\n",
      "0              NaN      NaN   \n",
      "1              NaN      NaN   \n",
      "2              NaN      NaN   \n",
      "3              NaN      NaN   \n",
      "4              NaN      NaN   \n",
      "\n",
      "                                      pdf_json_files  \\\n",
      "0  document_parses/pdf_json/d1aafb70c066a2068b027...   \n",
      "1  document_parses/pdf_json/6b0567729c2143a66d737...   \n",
      "2  document_parses/pdf_json/06ced00a5fc04215949aa...   \n",
      "3  document_parses/pdf_json/348055649b6b8cf2b9a37...   \n",
      "4  document_parses/pdf_json/5f48792a5fa08bed9f560...   \n",
      "\n",
      "                               pmc_json_files  \\\n",
      "0  document_parses/pmc_json/PMC35282.xml.json   \n",
      "1  document_parses/pmc_json/PMC59543.xml.json   \n",
      "2  document_parses/pmc_json/PMC59549.xml.json   \n",
      "3  document_parses/pmc_json/PMC59574.xml.json   \n",
      "4  document_parses/pmc_json/PMC59580.xml.json   \n",
      "\n",
      "                                                 url  s2_id  \n",
      "0  https://www.ncbi.nlm.nih.gov/pmc/articles/PMC3...    NaN  \n",
      "1  https://www.ncbi.nlm.nih.gov/pmc/articles/PMC5...    NaN  \n",
      "2  https://www.ncbi.nlm.nih.gov/pmc/articles/PMC5...    NaN  \n",
      "3  https://www.ncbi.nlm.nih.gov/pmc/articles/PMC5...    NaN  \n",
      "4  https://www.ncbi.nlm.nih.gov/pmc/articles/PMC5...    NaN  \n"
     ]
    }
   ],
   "source": [
    "# iMPORT DATA\n",
    "import pandas as pd\n",
    "\n",
    "df = pd.read_csv(\"D:\\Documents\\Sample Datasets\\COVID_dataset\\metadata.csv\")\n",
    "print(df.head())"
   ]
  },
  {
   "cell_type": "code",
   "execution_count": 31,
   "id": "63eb48cf",
   "metadata": {},
   "outputs": [
    {
     "name": "stdout",
     "output_type": "stream",
     "text": [
      "<class 'pandas.core.frame.DataFrame'>\n",
      "RangeIndex: 1015768 entries, 0 to 1015767\n",
      "Data columns (total 19 columns):\n",
      " #   Column            Non-Null Count    Dtype  \n",
      "---  ------            --------------    -----  \n",
      " 0   cord_uid          1015768 non-null  object \n",
      " 1   sha               351674 non-null   object \n",
      " 2   source_x          1015768 non-null  object \n",
      " 3   title             1015273 non-null  object \n",
      " 4   doi               620123 non-null   object \n",
      " 5   pmcid             366727 non-null   object \n",
      " 6   pubmed_id         470047 non-null   object \n",
      " 7   license           1015768 non-null  object \n",
      " 8   abstract          785160 non-null   object \n",
      " 9   publish_time      1013952 non-null  object \n",
      " 10  authors           992939 non-null   object \n",
      " 11  journal           930544 non-null   object \n",
      " 12  mag_id            0 non-null        float64\n",
      " 13  who_covidence_id  470248 non-null   object \n",
      " 14  arxiv_id          13588 non-null    object \n",
      " 15  pdf_json_files    351674 non-null   object \n",
      " 16  pmc_json_files    295705 non-null   object \n",
      " 17  url               649539 non-null   object \n",
      " 18  s2_id             939940 non-null   float64\n",
      "dtypes: float64(2), object(17)\n",
      "memory usage: 147.2+ MB\n"
     ]
    }
   ],
   "source": [
    "df.info()"
   ]
  },
  {
   "cell_type": "code",
   "execution_count": 32,
   "id": "6efa080a",
   "metadata": {},
   "outputs": [
    {
     "data": {
      "text/html": [
       "<div>\n",
       "<style scoped>\n",
       "    .dataframe tbody tr th:only-of-type {\n",
       "        vertical-align: middle;\n",
       "    }\n",
       "\n",
       "    .dataframe tbody tr th {\n",
       "        vertical-align: top;\n",
       "    }\n",
       "\n",
       "    .dataframe thead th {\n",
       "        text-align: right;\n",
       "    }\n",
       "</style>\n",
       "<table border=\"1\" class=\"dataframe\">\n",
       "  <thead>\n",
       "    <tr style=\"text-align: right;\">\n",
       "      <th></th>\n",
       "      <th>title</th>\n",
       "      <th>abstract</th>\n",
       "      <th>journal</th>\n",
       "      <th>publish_time</th>\n",
       "    </tr>\n",
       "  </thead>\n",
       "  <tbody>\n",
       "    <tr>\n",
       "      <th>0</th>\n",
       "      <td>Clinical features of culture-proven Mycoplasma...</td>\n",
       "      <td>OBJECTIVE: This retrospective chart review des...</td>\n",
       "      <td>BMC Infect Dis</td>\n",
       "      <td>2001-07-04</td>\n",
       "    </tr>\n",
       "    <tr>\n",
       "      <th>1</th>\n",
       "      <td>Nitric oxide: a pro-inflammatory mediator in l...</td>\n",
       "      <td>Inflammatory diseases of the respiratory tract...</td>\n",
       "      <td>Respir Res</td>\n",
       "      <td>2000-08-15</td>\n",
       "    </tr>\n",
       "    <tr>\n",
       "      <th>2</th>\n",
       "      <td>Surfactant protein-D and pulmonary host defense</td>\n",
       "      <td>Surfactant protein-D (SP-D) participates in th...</td>\n",
       "      <td>Respir Res</td>\n",
       "      <td>2000-08-25</td>\n",
       "    </tr>\n",
       "    <tr>\n",
       "      <th>3</th>\n",
       "      <td>Role of endothelin-1 in lung disease</td>\n",
       "      <td>Endothelin-1 (ET-1) is a 21 amino acid peptide...</td>\n",
       "      <td>Respir Res</td>\n",
       "      <td>2001-02-22</td>\n",
       "    </tr>\n",
       "    <tr>\n",
       "      <th>4</th>\n",
       "      <td>Gene expression in epithelial cells in respons...</td>\n",
       "      <td>Respiratory syncytial virus (RSV) and pneumoni...</td>\n",
       "      <td>Respir Res</td>\n",
       "      <td>2001-05-11</td>\n",
       "    </tr>\n",
       "  </tbody>\n",
       "</table>\n",
       "</div>"
      ],
      "text/plain": [
       "                                               title  \\\n",
       "0  Clinical features of culture-proven Mycoplasma...   \n",
       "1  Nitric oxide: a pro-inflammatory mediator in l...   \n",
       "2    Surfactant protein-D and pulmonary host defense   \n",
       "3               Role of endothelin-1 in lung disease   \n",
       "4  Gene expression in epithelial cells in respons...   \n",
       "\n",
       "                                            abstract         journal  \\\n",
       "0  OBJECTIVE: This retrospective chart review des...  BMC Infect Dis   \n",
       "1  Inflammatory diseases of the respiratory tract...      Respir Res   \n",
       "2  Surfactant protein-D (SP-D) participates in th...      Respir Res   \n",
       "3  Endothelin-1 (ET-1) is a 21 amino acid peptide...      Respir Res   \n",
       "4  Respiratory syncytial virus (RSV) and pneumoni...      Respir Res   \n",
       "\n",
       "  publish_time  \n",
       "0   2001-07-04  \n",
       "1   2000-08-15  \n",
       "2   2000-08-25  \n",
       "3   2001-02-22  \n",
       "4   2001-05-11  "
      ]
     },
     "execution_count": 32,
     "metadata": {},
     "output_type": "execute_result"
    }
   ],
   "source": [
    "df = df[['title', 'abstract','journal','publish_time']].copy()\n",
    "df.head()\n"
   ]
  },
  {
   "cell_type": "code",
   "execution_count": 59,
   "id": "34fe7da0",
   "metadata": {},
   "outputs": [
    {
     "data": {
      "text/html": [
       "<div>\n",
       "<style scoped>\n",
       "    .dataframe tbody tr th:only-of-type {\n",
       "        vertical-align: middle;\n",
       "    }\n",
       "\n",
       "    .dataframe tbody tr th {\n",
       "        vertical-align: top;\n",
       "    }\n",
       "\n",
       "    .dataframe thead th {\n",
       "        text-align: right;\n",
       "    }\n",
       "</style>\n",
       "<table border=\"1\" class=\"dataframe\">\n",
       "  <thead>\n",
       "    <tr style=\"text-align: right;\">\n",
       "      <th></th>\n",
       "      <th>title</th>\n",
       "      <th>abstract</th>\n",
       "      <th>journal</th>\n",
       "      <th>publish_time</th>\n",
       "    </tr>\n",
       "  </thead>\n",
       "  <tbody>\n",
       "    <tr>\n",
       "      <th>908370</th>\n",
       "      <td>Combination of QSAR, molecular docking, molecu...</td>\n",
       "      <td>Pandemic COVID-19 infections have spread throu...</td>\n",
       "      <td>Journal of biomolecular structure &amp; dynamics</td>\n",
       "      <td>2020-11-30</td>\n",
       "    </tr>\n",
       "    <tr>\n",
       "      <th>754050</th>\n",
       "      <td>Validation of self-collected buccal swab and s...</td>\n",
       "      <td>Background: Effective management of Severe Acu...</td>\n",
       "      <td>NaN</td>\n",
       "      <td>2020-10-05</td>\n",
       "    </tr>\n",
       "    <tr>\n",
       "      <th>1008483</th>\n",
       "      <td>The Impact of COVID-19 Infection and Enforced ...</td>\n",
       "      <td>Background: The sudden and drastic changes due...</td>\n",
       "      <td>Front Psychiatry</td>\n",
       "      <td>2020-10-22</td>\n",
       "    </tr>\n",
       "    <tr>\n",
       "      <th>88668</th>\n",
       "      <td>Alterations of Rice (Oryza sativa L.) DNA Meth...</td>\n",
       "      <td>Rice black-streaked dwarf virus (RBSDV) causes...</td>\n",
       "      <td>International journal of molecular sciences</td>\n",
       "      <td>2020-08-11</td>\n",
       "    </tr>\n",
       "    <tr>\n",
       "      <th>839117</th>\n",
       "      <td>Temporal variations in the diagnostic performa...</td>\n",
       "      <td>RATIONALE AND OBJECTIVE: The purpose of this w...</td>\n",
       "      <td>Eur J Radiol</td>\n",
       "      <td>2020-11-20</td>\n",
       "    </tr>\n",
       "  </tbody>\n",
       "</table>\n",
       "</div>"
      ],
      "text/plain": [
       "                                                     title  \\\n",
       "908370   Combination of QSAR, molecular docking, molecu...   \n",
       "754050   Validation of self-collected buccal swab and s...   \n",
       "1008483  The Impact of COVID-19 Infection and Enforced ...   \n",
       "88668    Alterations of Rice (Oryza sativa L.) DNA Meth...   \n",
       "839117   Temporal variations in the diagnostic performa...   \n",
       "\n",
       "                                                  abstract  \\\n",
       "908370   Pandemic COVID-19 infections have spread throu...   \n",
       "754050   Background: Effective management of Severe Acu...   \n",
       "1008483  Background: The sudden and drastic changes due...   \n",
       "88668    Rice black-streaked dwarf virus (RBSDV) causes...   \n",
       "839117   RATIONALE AND OBJECTIVE: The purpose of this w...   \n",
       "\n",
       "                                              journal publish_time  \n",
       "908370   Journal of biomolecular structure & dynamics   2020-11-30  \n",
       "754050                                            NaN   2020-10-05  \n",
       "1008483                              Front Psychiatry   2020-10-22  \n",
       "88668     International journal of molecular sciences   2020-08-11  \n",
       "839117                                   Eur J Radiol   2020-11-20  "
      ]
     },
     "execution_count": 59,
     "metadata": {},
     "output_type": "execute_result"
    }
   ],
   "source": [
    "df_new = df.sample(50000)\n",
    "\n",
    "df_new.to_csv(\"D:\\Documents\\Sample Datasets\\COVID_dataset\\covid_tutorial.csv\")\n",
    "df_new.head()"
   ]
  },
  {
   "cell_type": "code",
   "execution_count": 9,
   "id": "2c20e51a",
   "metadata": {},
   "outputs": [
    {
     "name": "stdout",
     "output_type": "stream",
     "text": [
      "<class 'pandas.core.frame.DataFrame'>\n",
      "RangeIndex: 1015768 entries, 0 to 1015767\n",
      "Data columns (total 4 columns):\n",
      " #   Column        Non-Null Count    Dtype \n",
      "---  ------        --------------    ----- \n",
      " 0   title         1015273 non-null  object\n",
      " 1   abstract      785160 non-null   object\n",
      " 2   journal       930544 non-null   object\n",
      " 3   publish_time  1013952 non-null  object\n",
      "dtypes: object(4)\n",
      "memory usage: 31.0+ MB\n"
     ]
    }
   ],
   "source": [
    "df.info()\n"
   ]
  },
  {
   "cell_type": "code",
   "execution_count": 10,
   "id": "4b976c0e",
   "metadata": {},
   "outputs": [
    {
     "name": "stdout",
     "output_type": "stream",
     "text": [
      "<class 'pandas.core.frame.DataFrame'>\n",
      "Int64Index: 50000 entries, 937287 to 444327\n",
      "Data columns (total 4 columns):\n",
      " #   Column        Non-Null Count  Dtype \n",
      "---  ------        --------------  ----- \n",
      " 0   title         49972 non-null  object\n",
      " 1   abstract      38647 non-null  object\n",
      " 2   journal       45796 non-null  object\n",
      " 3   publish_time  49908 non-null  object\n",
      "dtypes: object(4)\n",
      "memory usage: 1.9+ MB\n"
     ]
    }
   ],
   "source": [
    "df_new.info()"
   ]
  },
  {
   "cell_type": "code",
   "execution_count": 60,
   "id": "d4661806",
   "metadata": {},
   "outputs": [
    {
     "name": "stdout",
     "output_type": "stream",
     "text": [
      "[(nan, 4221), ('PLoS One', 465), ('bioRxiv', 438), ('Int J Environ Res Public Health', 386), ('BMJ', 325), ('Sci Rep', 270), ('Cureus', 189), ('Front Public Health', 169), ('Reactions Weekly', 169), ('BMJ Open', 162), ('Nature', 160), ('Front Psychol', 160), ('Lancet', 158), ('Sustainability', 158), ('Front Immunol', 156), ('JAMA', 136), ('Viruses', 132), ('Int. j. environ. res. public health (Online)', 121), ('J Med Virol', 120), ('Journal of virology', 120), ('Science', 105), ('Nat Commun', 104), ('Int J Infect Dis', 103), ('J Med Internet Res', 102), ('J Clin Med', 97), ('Int J Mol Sci', 97), ('Chest', 96), ('Clin Infect Dis', 89), ('Vaccines (Basel)', 85), ('Open Forum Infect Dis', 82), ('Vaccine', 81), ('Nutrients', 79), ('BMC Infect Dis', 77), ('BMC Public Health', 77), ('Emerg Infect Dis', 77), ('Sensors (Basel)', 77), ('Front Psychiatry', 76), ('Sci Total Environ', 74), ('Crit Care', 73), ('JAMA Netw Open', 73), ('J. med. virol', 70), ('N Engl J Med', 68), ('medRxiv', 68), ('J Infect Dis', 67), ('American Journal of Respiratory and Critical Care Medicine', 67), ('Dermatol Ther', 66), ('Innov Aging', 64), ('Trials', 63), ('BMJ case reports', 62), ('Br Dent J', 61), ('Front Med (Lausanne)', 60), ('Med Hypotheses', 59), ('Heliyon', 58), ('Molecules', 57), ('Journal of the American College of Cardiology', 56), ('J Infect', 56), ('Medicine (Baltimore)', 56), ('Gastroenterology', 56), ('Blood', 55), ('Front Microbiol', 53), ('JMIR Public Health Surveill', 50), ('Br J Surg', 50), ('Virology', 49), ('Cells', 49), ('J Clin Virol', 48), ('MMWR Morb Mortal Wkly Rep', 48), ('Infect Control Hosp Epidemiol', 48), ('Lancet Infect Dis', 47), ('Healthcare (Basel)', 47), ('Pan Afr Med J', 46), ('Front Pharmacol', 45), ('Am J Emerg Med', 44), ('New Scientist', 44), ('EClinicalMedicine', 44), ('Open Forum Infectious Diseases', 44), ('Surgical endoscopy', 43), ('Intensive Care Med', 43), ('Environ Res', 43), ('Indian J Ophthalmol', 42), ('Asian J Psychiatr', 42), ('Thorax', 42), ('Pediatrics', 42), ('PLoS Pathog', 41), ('Stroke', 41), ('Clin. infect. dis', 40), ('Acta Biomed', 40), ('Ann Intern Med', 40), ('J Virol Methods', 39), ('Arch Virol', 39), ('Environ Sci Pollut Res Int', 39), ('Epidemiol Infect', 39), ('Clin Microbiol Infect', 39), ('Value in Health', 38), ('Proc Natl Acad Sci U S A', 37), ('Nature (Lond.)', 37), ('Circulation', 37), ('Public Health', 37), ('Am J Trop Med Hyg', 36), ('Virus Res', 36), ('Int J Clin Pract', 36)]\n",
      "[(nan, 4221), ('PLoS One', 465), ('bioRxiv', 438), ('Int J Environ Res Public Health', 386), ('BMJ', 325), ('Sci Rep', 270), ('Cureus', 189), ('Front Public Health', 169), ('Reactions Weekly', 169), ('BMJ Open', 162)]\n"
     ]
    }
   ],
   "source": [
    "# Frequency distribution\n",
    "# find the most common words in a column+\n",
    "import collections\n",
    "print(collections.Counter(df_new['journal']).most_common(100))\n",
    "\n",
    "import nltk\n",
    "from nltk.probability import FreqDist\n",
    "\n",
    "fd = FreqDist(df_new['journal'])\n",
    "my_common_words = fd.most_common(10)\n",
    "print(my_common_words)\n"
   ]
  },
  {
   "cell_type": "code",
   "execution_count": 58,
   "id": "97c16574",
   "metadata": {},
   "outputs": [
    {
     "name": "stdout",
     "output_type": "stream",
     "text": [
      "[('PLoS One', 459), ('bioRxiv', 441), ('Int J Environ Res Public Health', 372), ('BMJ', 344), ('Sci Rep', 290), ('Cureus', 207), ('Front Psychol', 186), ('Front Public Health', 179), ('BMJ Open', 166), ('Reactions Weekly', 159), ('Nature', 158), ('Viruses', 153), ('Lancet', 152), ('Front Immunol', 150), ('Sustainability', 126), ('JAMA', 126), ('Journal of virology', 125), ('Int. j. environ. res. public health (Online)', 125), ('Int J Infect Dis', 118), ('Int J Mol Sci', 115), ('Nat Commun', 109), ('J Med Internet Res', 108), ('J Med Virol', 107), ('Science', 97), ('Chest', 94), ('Open Forum Infect Dis', 90), ('BMC Public Health', 88), ('Clin Infect Dis', 88), ('J Clin Med', 86), ('BMC Infect Dis', 84), ('Emerg Infect Dis', 83), ('Vaccine', 81), ('Nutrients', 80), ('Vaccines (Basel)', 78), ('American Journal of Respiratory and Critical Care Medicine', 75), ('N Engl J Med', 75), ('Crit Care', 74), ('Front Med (Lausanne)', 73), ('Molecules', 72), ('JAMA Netw Open', 72), ('Front Psychiatry', 68), ('J Infect', 66), ('J. med. virol', 64), ('Sci Total Environ', 62), ('Blood', 61), ('Sensors (Basel)', 60), ('Healthcare (Basel)', 60), ('Medicine (Baltimore)', 58), ('Clin. infect. dis', 58), ('Heliyon', 58), ('Dermatol Ther', 58), ('Infect Control Hosp Epidemiol', 57), ('MMWR Morb Mortal Wkly Rep', 55), ('medRxiv', 55), ('Innov Aging', 54), ('BMJ case reports', 54), ('Front Microbiol', 53), ('Trials', 53), ('J Clin Virol', 53), ('Journal of the American College of Cardiology', 52), ('Virology', 52), ('Lancet Infect Dis', 50), ('Surgical endoscopy', 49), ('PLoS Pathog', 48), ('Med Hypotheses', 48), ('Br Dent J', 47), ('Intensive Care Med', 47), ('Gastroenterology', 47), ('Travel Med Infect Dis', 47), ('J Infect Dis', 46), ('Pathogens', 46), ('BMJ open', 45), ('Lancet Respir Med', 45), ('Arch Virol', 45), ('Br J Surg', 44), ('Front Pharmacol', 44), ('Am J Emerg Med', 44), ('Diabetes Metab Syndr', 43), ('J Korean Med Sci', 43), ('AJNR. American journal of neuroradiology', 42), ('Stroke', 41), ('BMC Health Serv Res', 41), ('Acta Biomed', 41), ('Proc Natl Acad Sci U S A', 41), ('Indian J Ophthalmol', 40), ('Scientific reports', 40), ('Cells', 40), ('BMJ Glob Health', 39), ('CMAJ', 39), ('Asian J Psychiatr', 39), ('Pediatrics', 39), ('Value in Health', 39), ('Transfusion', 38), ('New Scientist', 38), ('Environ Sci Pollut Res Int', 38), ('Am J Trop Med Hyg', 37), ('European Respiratory Journal', 37), ('Disaster medicine and public health preparedness', 37), ('Cancers (Basel)', 37), ('International Journal of Environmental Research and Public Health', 36)]\n",
      "<class 'pandas.core.frame.DataFrame'>\n",
      "Int64Index: 50000 entries, 990954 to 58687\n",
      "Data columns (total 4 columns):\n",
      " #   Column        Non-Null Count  Dtype \n",
      "---  ------        --------------  ----- \n",
      " 0   title         49979 non-null  object\n",
      " 1   abstract      38598 non-null  object\n",
      " 2   journal       45867 non-null  object\n",
      " 3   publish_time  49935 non-null  object\n",
      "dtypes: object(4)\n",
      "memory usage: 1.9+ MB\n"
     ]
    },
    {
     "data": {
      "text/html": [
       "<div>\n",
       "<style scoped>\n",
       "    .dataframe tbody tr th:only-of-type {\n",
       "        vertical-align: middle;\n",
       "    }\n",
       "\n",
       "    .dataframe tbody tr th {\n",
       "        vertical-align: top;\n",
       "    }\n",
       "\n",
       "    .dataframe thead th {\n",
       "        text-align: right;\n",
       "    }\n",
       "</style>\n",
       "<table border=\"1\" class=\"dataframe\">\n",
       "  <thead>\n",
       "    <tr style=\"text-align: right;\">\n",
       "      <th></th>\n",
       "      <th>title</th>\n",
       "      <th>abstract</th>\n",
       "      <th>journal</th>\n",
       "      <th>publish_time</th>\n",
       "    </tr>\n",
       "  </thead>\n",
       "  <tbody>\n",
       "    <tr>\n",
       "      <th>990954</th>\n",
       "      <td>More effective strategies are required to stre...</td>\n",
       "      <td>BACKGROUND: The outbreak of coronavirus diseas...</td>\n",
       "      <td>Journal of global health</td>\n",
       "      <td>2020-04-15</td>\n",
       "    </tr>\n",
       "    <tr>\n",
       "      <th>303717</th>\n",
       "      <td>Challenges in control of COVID-19: short doubl...</td>\n",
       "      <td>Early assessments of the growth rate of COVID-...</td>\n",
       "      <td>Philos Trans R Soc Lond B Biol Sci</td>\n",
       "      <td>2021</td>\n",
       "    </tr>\n",
       "    <tr>\n",
       "      <th>881314</th>\n",
       "      <td>Intrathecal Humoral Immunity to Encephalitic R...</td>\n",
       "      <td>The nervous system is the target for acute enc...</td>\n",
       "      <td>Viruses</td>\n",
       "      <td>2013-02-15</td>\n",
       "    </tr>\n",
       "    <tr>\n",
       "      <th>455374</th>\n",
       "      <td>Dermomail</td>\n",
       "      <td>NaN</td>\n",
       "      <td>Medico e Bambino</td>\n",
       "      <td>2021</td>\n",
       "    </tr>\n",
       "    <tr>\n",
       "      <th>836265</th>\n",
       "      <td>Design, synthesis and evaluation of a series o...</td>\n",
       "      <td>A series of doubly flexible nucleoside analogu...</td>\n",
       "      <td>Bioorganic &amp; Medicinal Chemistry Letters</td>\n",
       "      <td>2015-08-01</td>\n",
       "    </tr>\n",
       "  </tbody>\n",
       "</table>\n",
       "</div>"
      ],
      "text/plain": [
       "                                                    title  \\\n",
       "990954  More effective strategies are required to stre...   \n",
       "303717  Challenges in control of COVID-19: short doubl...   \n",
       "881314  Intrathecal Humoral Immunity to Encephalitic R...   \n",
       "455374                                          Dermomail   \n",
       "836265  Design, synthesis and evaluation of a series o...   \n",
       "\n",
       "                                                 abstract  \\\n",
       "990954  BACKGROUND: The outbreak of coronavirus diseas...   \n",
       "303717  Early assessments of the growth rate of COVID-...   \n",
       "881314  The nervous system is the target for acute enc...   \n",
       "455374                                                NaN   \n",
       "836265  A series of doubly flexible nucleoside analogu...   \n",
       "\n",
       "                                         journal publish_time  \n",
       "990954                  Journal of global health   2020-04-15  \n",
       "303717        Philos Trans R Soc Lond B Biol Sci         2021  \n",
       "881314                                   Viruses   2013-02-15  \n",
       "455374                          Medico e Bambino         2021  \n",
       "836265  Bioorganic & Medicinal Chemistry Letters   2015-08-01  "
      ]
     },
     "execution_count": 58,
     "metadata": {},
     "output_type": "execute_result"
    }
   ],
   "source": []
  },
  {
   "cell_type": "code",
   "execution_count": 65,
   "id": "5372e341",
   "metadata": {},
   "outputs": [
    {
     "name": "stdout",
     "output_type": "stream",
     "text": [
      "<class 'pandas.core.frame.DataFrame'>\n",
      "Int64Index: 465 entries, 965802 to 865809\n",
      "Data columns (total 4 columns):\n",
      " #   Column        Non-Null Count  Dtype \n",
      "---  ------        --------------  ----- \n",
      " 0   title         465 non-null    object\n",
      " 1   abstract      465 non-null    object\n",
      " 2   journal       465 non-null    object\n",
      " 3   publish_time  465 non-null    object\n",
      "dtypes: object(4)\n",
      "memory usage: 18.2+ KB\n",
      "----------------------\n",
      "<class 'pandas.core.frame.DataFrame'>\n",
      "Int64Index: 465 entries, 965802 to 865809\n",
      "Data columns (total 4 columns):\n",
      " #   Column        Non-Null Count  Dtype \n",
      "---  ------        --------------  ----- \n",
      " 0   title         465 non-null    object\n",
      " 1   abstract      465 non-null    object\n",
      " 2   journal       465 non-null    object\n",
      " 3   publish_time  465 non-null    object\n",
      "dtypes: object(4)\n",
      "memory usage: 18.2+ KB\n"
     ]
    },
    {
     "name": "stderr",
     "output_type": "stream",
     "text": [
      "D:\\Documents\\Nihar\\virtual_env\\unity_python_zeromq\\lib\\site-packages\\pandas\\core\\series.py:4494: SettingWithCopyWarning: \n",
      "A value is trying to be set on a copy of a slice from a DataFrame\n",
      "\n",
      "See the caveats in the documentation: https://pandas.pydata.org/pandas-docs/stable/user_guide/indexing.html#returning-a-view-versus-a-copy\n",
      "  self._update_inplace(result)\n"
     ]
    }
   ],
   "source": [
    "# Filter out the data for the most common journal PLoS One\n",
    "df_plos = df_new[df_new['journal'] == 'PLoS One']\n",
    "\n",
    "df_plos.info()\n",
    "print(\"----------------------\")\n",
    "df_plos['journal'].dropna(inplace=True)\n",
    "# print(collections.Counter(df_plos['journal']).most_common(10))\n",
    "df_plos.info()"
   ]
  },
  {
   "cell_type": "code",
   "execution_count": 70,
   "id": "b8526702",
   "metadata": {},
   "outputs": [
    {
     "ename": "ValueError",
     "evalue": "Cannot mask with non-boolean array containing NA / NaN values",
     "output_type": "error",
     "traceback": [
      "\u001b[1;31m---------------------------------------------------------------------------\u001b[0m",
      "\u001b[1;31mValueError\u001b[0m                                Traceback (most recent call last)",
      "\u001b[1;32m<ipython-input-70-471119ff7c8c>\u001b[0m in \u001b[0;36m<module>\u001b[1;34m\u001b[0m\n\u001b[0;32m      1\u001b[0m \u001b[1;31m# Filter all the journals specifically for infectious diseases\u001b[0m\u001b[1;33m\u001b[0m\u001b[1;33m\u001b[0m\u001b[1;33m\u001b[0m\u001b[0m\n\u001b[1;32m----> 2\u001b[1;33m \u001b[0mdf_infect\u001b[0m \u001b[1;33m=\u001b[0m \u001b[0mdf_new\u001b[0m\u001b[1;33m[\u001b[0m\u001b[0mdf_new\u001b[0m\u001b[1;33m[\u001b[0m\u001b[1;34m'journal'\u001b[0m\u001b[1;33m]\u001b[0m\u001b[1;33m.\u001b[0m\u001b[0mstr\u001b[0m\u001b[1;33m.\u001b[0m\u001b[0mcontains\u001b[0m\u001b[1;33m(\u001b[0m\u001b[1;34m'Infect_Dis'\u001b[0m\u001b[1;33m,\u001b[0m \u001b[0mregex\u001b[0m\u001b[1;33m=\u001b[0m\u001b[1;32mFalse\u001b[0m\u001b[1;33m)\u001b[0m\u001b[1;33m]\u001b[0m\u001b[1;33m\u001b[0m\u001b[1;33m\u001b[0m\u001b[0m\n\u001b[0m\u001b[0;32m      3\u001b[0m \u001b[0mdf_infect\u001b[0m\u001b[1;33m.\u001b[0m\u001b[0mhead\u001b[0m\u001b[1;33m(\u001b[0m\u001b[1;33m)\u001b[0m\u001b[1;33m\u001b[0m\u001b[1;33m\u001b[0m\u001b[0m\n",
      "\u001b[1;32mD:\\Documents\\Nihar\\virtual_env\\unity_python_zeromq\\lib\\site-packages\\pandas\\core\\frame.py\u001b[0m in \u001b[0;36m__getitem__\u001b[1;34m(self, key)\u001b[0m\n\u001b[0;32m   2788\u001b[0m \u001b[1;33m\u001b[0m\u001b[0m\n\u001b[0;32m   2789\u001b[0m         \u001b[1;31m# Do we have a (boolean) 1d indexer?\u001b[0m\u001b[1;33m\u001b[0m\u001b[1;33m\u001b[0m\u001b[1;33m\u001b[0m\u001b[0m\n\u001b[1;32m-> 2790\u001b[1;33m         \u001b[1;32mif\u001b[0m \u001b[0mcom\u001b[0m\u001b[1;33m.\u001b[0m\u001b[0mis_bool_indexer\u001b[0m\u001b[1;33m(\u001b[0m\u001b[0mkey\u001b[0m\u001b[1;33m)\u001b[0m\u001b[1;33m:\u001b[0m\u001b[1;33m\u001b[0m\u001b[1;33m\u001b[0m\u001b[0m\n\u001b[0m\u001b[0;32m   2791\u001b[0m             \u001b[1;32mreturn\u001b[0m \u001b[0mself\u001b[0m\u001b[1;33m.\u001b[0m\u001b[0m_getitem_bool_array\u001b[0m\u001b[1;33m(\u001b[0m\u001b[0mkey\u001b[0m\u001b[1;33m)\u001b[0m\u001b[1;33m\u001b[0m\u001b[1;33m\u001b[0m\u001b[0m\n\u001b[0;32m   2792\u001b[0m \u001b[1;33m\u001b[0m\u001b[0m\n",
      "\u001b[1;32mD:\\Documents\\Nihar\\virtual_env\\unity_python_zeromq\\lib\\site-packages\\pandas\\core\\common.py\u001b[0m in \u001b[0;36mis_bool_indexer\u001b[1;34m(key)\u001b[0m\n\u001b[0;32m    134\u001b[0m                 \u001b[0mna_msg\u001b[0m \u001b[1;33m=\u001b[0m \u001b[1;34m\"Cannot mask with non-boolean array containing NA / NaN values\"\u001b[0m\u001b[1;33m\u001b[0m\u001b[1;33m\u001b[0m\u001b[0m\n\u001b[0;32m    135\u001b[0m                 \u001b[1;32mif\u001b[0m \u001b[0misna\u001b[0m\u001b[1;33m(\u001b[0m\u001b[0mkey\u001b[0m\u001b[1;33m)\u001b[0m\u001b[1;33m.\u001b[0m\u001b[0many\u001b[0m\u001b[1;33m(\u001b[0m\u001b[1;33m)\u001b[0m\u001b[1;33m:\u001b[0m\u001b[1;33m\u001b[0m\u001b[1;33m\u001b[0m\u001b[0m\n\u001b[1;32m--> 136\u001b[1;33m                     \u001b[1;32mraise\u001b[0m \u001b[0mValueError\u001b[0m\u001b[1;33m(\u001b[0m\u001b[0mna_msg\u001b[0m\u001b[1;33m)\u001b[0m\u001b[1;33m\u001b[0m\u001b[1;33m\u001b[0m\u001b[0m\n\u001b[0m\u001b[0;32m    137\u001b[0m                 \u001b[1;32mreturn\u001b[0m \u001b[1;32mFalse\u001b[0m\u001b[1;33m\u001b[0m\u001b[1;33m\u001b[0m\u001b[0m\n\u001b[0;32m    138\u001b[0m             \u001b[1;32mreturn\u001b[0m \u001b[1;32mTrue\u001b[0m\u001b[1;33m\u001b[0m\u001b[1;33m\u001b[0m\u001b[0m\n",
      "\u001b[1;31mValueError\u001b[0m: Cannot mask with non-boolean array containing NA / NaN values"
     ]
    }
   ],
   "source": [
    "# Filter all the journals specifically for infectious diseases\n",
    "df_new.dropna(inplace=True)\n",
    "df_infect = df_new[df_new['journal'].str.contains('Infect_Dis', regex=False)]\n",
    "df_infect.head()"
   ]
  },
  {
   "cell_type": "code",
   "execution_count": null,
   "id": "da47d129",
   "metadata": {},
   "outputs": [],
   "source": []
  }
 ],
 "metadata": {
  "kernelspec": {
   "display_name": "unity_python_zeromq",
   "language": "python",
   "name": "unity_python_zeromq"
  },
  "language_info": {
   "codemirror_mode": {
    "name": "ipython",
    "version": 3
   },
   "file_extension": ".py",
   "mimetype": "text/x-python",
   "name": "python",
   "nbconvert_exporter": "python",
   "pygments_lexer": "ipython3",
   "version": "3.7.7"
  }
 },
 "nbformat": 4,
 "nbformat_minor": 5
}
