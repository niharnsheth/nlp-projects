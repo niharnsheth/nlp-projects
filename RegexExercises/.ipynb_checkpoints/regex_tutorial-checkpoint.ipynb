{
 "cells": [
  {
   "cell_type": "markdown",
   "id": "6905cfca",
   "metadata": {},
   "source": [
    "#### Strings in Python can be defined using either single or double quotations (they are functionally equivalent):"
   ]
  },
  {
   "cell_type": "code",
   "execution_count": 1,
   "id": "3212bcd5",
   "metadata": {},
   "outputs": [
    {
     "name": "stdout",
     "output_type": "stream",
     "text": [
      "True\n"
     ]
    }
   ],
   "source": [
    "x = \"a_string\"\n",
    "y = 'a_string'\n",
    "print(x == y)"
   ]
  },
  {
   "cell_type": "code",
   "execution_count": 6,
   "id": "e2d76779",
   "metadata": {},
   "outputs": [
    {
     "name": "stdout",
     "output_type": "stream",
     "text": [
      "THE QUICK BROWN FOX\n",
      "the quick brown fox\n",
      "The Quick Brown Fox\n",
      "The quick brown fox\n"
     ]
    }
   ],
   "source": [
    "fox = \"tHe qUIck Brown FoX\"\n",
    "print(fox.upper())\n",
    "print(fox.lower())\n",
    "print(fox.title())\n",
    "print(fox.capitalize())"
   ]
  },
  {
   "cell_type": "markdown",
   "id": "cc558fcf",
   "metadata": {},
   "source": [
    "#### Formatting strings: Adding and removing spaces"
   ]
  },
  {
   "cell_type": "code",
   "execution_count": 14,
   "id": "b64e743d",
   "metadata": {},
   "outputs": [
    {
     "name": "stdout",
     "output_type": "stream",
     "text": [
      "sent: chicken\n",
      "sent: chicken    !!!\n",
      "sent:         chicken\n",
      "---------------------------\n",
      "Removing other than white space\n",
      "sent: 42\n"
     ]
    }
   ],
   "source": [
    "line = '        chicken    '\n",
    "print(\"sent: \" + line.strip())\n",
    "print(\"sent: \" + line.lstrip() + \"!!!\")\n",
    "print(\"sent: \" + line.rstrip())\n",
    "print(\"---------------------------\")\n",
    "\n",
    "# removing other than white space\n",
    "print(\"Removing other than white space\")\n",
    "line = '00000423'\n",
    "print(\"sent: \" + line.strip('0'))\n"
   ]
  },
  {
   "cell_type": "code",
   "execution_count": 21,
   "id": "500b6dc5",
   "metadata": {},
   "outputs": [
    {
     "name": "stdout",
     "output_type": "stream",
     "text": [
      "sent:      This is the content      \n",
      "sent: 999999435\n",
      "sent: 435777777777777\n",
      "sent: 0000000435\n"
     ]
    }
   ],
   "source": [
    "line = \"This is the content\"\n",
    "print(\"sent: \" + line.center(30))\n",
    "line = \"435\"\n",
    "print(\"sent: \" + line.rjust(9,'9'))\n",
    "print(\"sent: \" + line.ljust(15,'7'))\n",
    "print(\"sent: \" + line.zfill(10))\n"
   ]
  },
  {
   "cell_type": "markdown",
   "id": "2fc7a816",
   "metadata": {},
   "source": [
    "#### Finding and replacing substrings"
   ]
  },
  {
   "cell_type": "code",
   "execution_count": 23,
   "id": "76d62c99",
   "metadata": {},
   "outputs": [
    {
     "name": "stdout",
     "output_type": "stream",
     "text": [
      "16\n",
      "16\n",
      "40\n",
      "40\n"
     ]
    }
   ],
   "source": [
    "line = 'the quick brown fox jumped over a lazy dog'\n",
    "\n",
    "print(line.find('fox'))\n",
    "print(line.index('fox'))\n",
    "print(line.rfind('o'))\n",
    "print(line.rindex('o'))\n",
    "print(line.startswith('the'))\n",
    "print(line.endswith('fox'))"
   ]
  },
  {
   "cell_type": "code",
   "execution_count": 24,
   "id": "2ba90322",
   "metadata": {},
   "outputs": [
    {
     "name": "stdout",
     "output_type": "stream",
     "text": [
      "the quick red fox jumped over a lazy dog\n",
      "the quick br**wn f**x jumped **ver a lazy d**g\n"
     ]
    }
   ],
   "source": [
    "print(line.replace('brown', 'red'))\n",
    "print(line.replace('o', '**'))"
   ]
  },
  {
   "cell_type": "markdown",
   "id": "aaeaaa23",
   "metadata": {},
   "source": [
    "#### Splitting and partitioning strings\n",
    "If you would like to find a substring and then split the string based on its location, the partition() and/or split() methods are what you're looking for. Both will return a sequence of substrings.\n",
    "\n",
    "The partition() method returns a tuple with three elements: the substring before the first instance of the split-point, the split-point itself, and the substring after:"
   ]
  },
  {
   "cell_type": "code",
   "execution_count": 26,
   "id": "ebf05b89",
   "metadata": {},
   "outputs": [
    {
     "data": {
      "text/plain": [
       "('the ', 'quick', ' brown fox jumped over a lazy dog')"
      ]
     },
     "execution_count": 26,
     "metadata": {},
     "output_type": "execute_result"
    }
   ],
   "source": [
    "line.partition('fox')\n",
    "line.rpartition('quick')"
   ]
  },
  {
   "cell_type": "code",
   "execution_count": 32,
   "id": "6a3f8b44",
   "metadata": {},
   "outputs": [
    {
     "name": "stdout",
     "output_type": "stream",
     "text": [
      "sent: ['the', 'quick', 'brown', 'fox', 'jumped', 'over', 'a', 'lazy', 'dog']\n"
     ]
    },
    {
     "ename": "TypeError",
     "evalue": "must be str or None, not list",
     "output_type": "error",
     "traceback": [
      "\u001b[1;31m---------------------------------------------------------------------------\u001b[0m",
      "\u001b[1;31mTypeError\u001b[0m                                 Traceback (most recent call last)",
      "\u001b[1;32m<ipython-input-32-998d566a269b>\u001b[0m in \u001b[0;36m<module>\u001b[1;34m\u001b[0m\n\u001b[0;32m      1\u001b[0m \u001b[1;31m# kind of word tokenization\u001b[0m\u001b[1;33m\u001b[0m\u001b[1;33m\u001b[0m\u001b[1;33m\u001b[0m\u001b[0m\n\u001b[0;32m      2\u001b[0m \u001b[0mprint\u001b[0m\u001b[1;33m(\u001b[0m\u001b[1;34m\"sent: \"\u001b[0m \u001b[1;33m+\u001b[0m \u001b[0mstr\u001b[0m\u001b[1;33m(\u001b[0m\u001b[0mline\u001b[0m\u001b[1;33m.\u001b[0m\u001b[0msplit\u001b[0m\u001b[1;33m(\u001b[0m\u001b[1;33m)\u001b[0m\u001b[1;33m)\u001b[0m\u001b[1;33m)\u001b[0m\u001b[1;33m\u001b[0m\u001b[1;33m\u001b[0m\u001b[0m\n\u001b[1;32m----> 3\u001b[1;33m \u001b[0mprint\u001b[0m\u001b[1;33m(\u001b[0m\u001b[1;34m\"sent: \"\u001b[0m \u001b[1;33m+\u001b[0m \u001b[0mstr\u001b[0m\u001b[1;33m(\u001b[0m\u001b[0mline\u001b[0m\u001b[1;33m.\u001b[0m\u001b[0msplit\u001b[0m\u001b[1;33m(\u001b[0m\u001b[1;33m[\u001b[0m\u001b[1;34m'o'\u001b[0m\u001b[1;33m,\u001b[0m\u001b[1;34m' '\u001b[0m\u001b[1;33m]\u001b[0m\u001b[1;33m)\u001b[0m\u001b[1;33m)\u001b[0m\u001b[1;33m)\u001b[0m\u001b[1;33m\u001b[0m\u001b[1;33m\u001b[0m\u001b[0m\n\u001b[0m\u001b[0;32m      4\u001b[0m \u001b[1;33m\u001b[0m\u001b[0m\n\u001b[0;32m      5\u001b[0m \u001b[1;31m# kind of sentence tokenization\u001b[0m\u001b[1;33m\u001b[0m\u001b[1;33m\u001b[0m\u001b[1;33m\u001b[0m\u001b[0m\n",
      "\u001b[1;31mTypeError\u001b[0m: must be str or None, not list"
     ]
    }
   ],
   "source": [
    "# kind of word tokenization\n",
    "print(\"sent: \" + str(line.split()))\n",
    "print(\"sent: \" + str(line.split('o')))\n",
    "\n",
    "# kind of sentence tokenization\n",
    "haiku = \"\"\"matsushima-ya\n",
    "aah matsushima-ya\n",
    "matsushima-ya\"\"\"\n",
    "print(\"para: \" + str(haiku.splitlines()))\n"
   ]
  },
  {
   "cell_type": "code",
   "execution_count": null,
   "id": "b4cad7c9",
   "metadata": {},
   "outputs": [],
   "source": []
  }
 ],
 "metadata": {
  "kernelspec": {
   "display_name": "unity_python_zeromq",
   "language": "python",
   "name": "unity_python_zeromq"
  },
  "language_info": {
   "codemirror_mode": {
    "name": "ipython",
    "version": 3
   },
   "file_extension": ".py",
   "mimetype": "text/x-python",
   "name": "python",
   "nbconvert_exporter": "python",
   "pygments_lexer": "ipython3",
   "version": "3.7.7"
  }
 },
 "nbformat": 4,
 "nbformat_minor": 5
}
