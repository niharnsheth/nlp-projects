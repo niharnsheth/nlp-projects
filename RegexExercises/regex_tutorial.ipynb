{
 "cells": [
  {
   "cell_type": "markdown",
   "id": "27dc1f9f",
   "metadata": {},
   "source": [
    "#### Strings in Python can be defined using either single or double quotations (they are functionally equivalent):"
   ]
  },
  {
   "cell_type": "code",
   "execution_count": 1,
   "id": "6e472c66",
   "metadata": {},
   "outputs": [
    {
     "name": "stdout",
     "output_type": "stream",
     "text": [
      "True\n"
     ]
    }
   ],
   "source": [
    "x = \"a_string\"\n",
    "y = 'a_string'\n",
    "print(x == y)"
   ]
  },
  {
   "cell_type": "code",
   "execution_count": 6,
   "id": "00e05625",
   "metadata": {},
   "outputs": [
    {
     "name": "stdout",
     "output_type": "stream",
     "text": [
      "THE QUICK BROWN FOX\n",
      "the quick brown fox\n",
      "The Quick Brown Fox\n",
      "The quick brown fox\n"
     ]
    }
   ],
   "source": [
    "fox = \"tHe qUIck Brown FoX\"\n",
    "print(fox.upper())\n",
    "print(fox.lower())\n",
    "print(fox.title())\n",
    "print(fox.capitalize())"
   ]
  },
  {
   "cell_type": "markdown",
   "id": "b903325b",
   "metadata": {},
   "source": [
    "#### Formatting strings: Adding and removing spaces"
   ]
  },
  {
   "cell_type": "code",
   "execution_count": 14,
   "id": "f6df2816",
   "metadata": {},
   "outputs": [
    {
     "name": "stdout",
     "output_type": "stream",
     "text": [
      "sent: chicken\n",
      "sent: chicken    !!!\n",
      "sent:         chicken\n",
      "---------------------------\n",
      "Removing other than white space\n",
      "sent: 42\n"
     ]
    }
   ],
   "source": [
    "line = '        chicken    '\n",
    "print(\"sent: \" + line.strip())\n",
    "print(\"sent: \" + line.lstrip() + \"!!!\")\n",
    "print(\"sent: \" + line.rstrip())\n",
    "print(\"---------------------------\")\n",
    "\n",
    "# removing other than white space\n",
    "print(\"Removing other than white space\")\n",
    "line = '00000423'\n",
    "print(\"sent: \" + line.strip('0'))\n"
   ]
  },
  {
   "cell_type": "code",
   "execution_count": 21,
   "id": "e1444496",
   "metadata": {},
   "outputs": [
    {
     "name": "stdout",
     "output_type": "stream",
     "text": [
      "sent:      This is the content      \n",
      "sent: 999999435\n",
      "sent: 435777777777777\n",
      "sent: 0000000435\n"
     ]
    }
   ],
   "source": [
    "line = \"This is the content\"\n",
    "print(\"sent: \" + line.center(30))\n",
    "line = \"435\"\n",
    "print(\"sent: \" + line.rjust(9,'9'))\n",
    "print(\"sent: \" + line.ljust(15,'7'))\n",
    "print(\"sent: \" + line.zfill(10))\n"
   ]
  },
  {
   "cell_type": "markdown",
   "id": "1f8e2bb0",
   "metadata": {},
   "source": [
    "#### Finding and replacing substrings"
   ]
  },
  {
   "cell_type": "code",
   "execution_count": 23,
   "id": "981841d4",
   "metadata": {},
   "outputs": [
    {
     "name": "stdout",
     "output_type": "stream",
     "text": [
      "16\n",
      "16\n",
      "40\n",
      "40\n"
     ]
    }
   ],
   "source": [
    "line = 'the quick brown fox jumped over a lazy dog'\n",
    "\n",
    "print(line.find('fox'))\n",
    "print(line.index('fox'))\n",
    "print(line.rfind('o'))\n",
    "print(line.rindex('o'))\n",
    "print(line.startswith('the'))\n",
    "print(line.endswith('fox'))"
   ]
  },
  {
   "cell_type": "code",
   "execution_count": 24,
   "id": "3d9edc52",
   "metadata": {},
   "outputs": [
    {
     "name": "stdout",
     "output_type": "stream",
     "text": [
      "the quick red fox jumped over a lazy dog\n",
      "the quick br**wn f**x jumped **ver a lazy d**g\n"
     ]
    }
   ],
   "source": [
    "print(line.replace('brown', 'red'))\n",
    "print(line.replace('o', '**'))"
   ]
  },
  {
   "cell_type": "markdown",
   "id": "96ba2fc2",
   "metadata": {},
   "source": [
    "#### Splitting and partitioning strings\n",
    "If you would like to find a substring and then split the string based on its location, the partition() and/or split() methods are what you're looking for. Both will return a sequence of substrings.\n",
    "\n",
    "The partition() method returns a tuple with three elements: the substring before the first instance of the split-point, the split-point itself, and the substring after:"
   ]
  },
  {
   "cell_type": "code",
   "execution_count": 26,
   "id": "cfb332a8",
   "metadata": {},
   "outputs": [
    {
     "data": {
      "text/plain": [
       "('the ', 'quick', ' brown fox jumped over a lazy dog')"
      ]
     },
     "execution_count": 26,
     "metadata": {},
     "output_type": "execute_result"
    }
   ],
   "source": [
    "line.partition('fox')\n",
    "line.rpartition('quick')"
   ]
  },
  {
   "cell_type": "code",
   "execution_count": 33,
   "id": "6bdcf9dc",
   "metadata": {},
   "outputs": [
    {
     "name": "stdout",
     "output_type": "stream",
     "text": [
      "sent: ['the', 'quick', 'brown', 'fox', 'jumped', 'over', 'a', 'lazy', 'dog']\n",
      "sent: ['the quick br', 'wn f', 'x jumped ', 'ver a lazy d', 'g']\n",
      "para: ['matsushima-ya', 'aah matsushima-ya', 'matsushima-ya']\n"
     ]
    }
   ],
   "source": [
    "# kind of word tokenization\n",
    "print(\"sent: \" + str(line.split()))\n",
    "print(\"sent: \" + str(line.split('o')))\n",
    "\n",
    "# kind of sentence tokenization\n",
    "haiku = \"\"\"matsushima-ya\n",
    "aah matsushima-ya\n",
    "matsushima-ya\"\"\"\n",
    "print(\"para: \" + str(haiku.splitlines()))\n"
   ]
  },
  {
   "cell_type": "code",
   "execution_count": 39,
   "id": "1f0deb35",
   "metadata": {},
   "outputs": [
    {
     "name": "stdout",
     "output_type": "stream",
     "text": [
      "the--quick--brown--fox--jumped--over--a--lazy--dog\n",
      "the\n",
      "quick\n",
      "brown\n",
      "fox\n",
      "jumped\n",
      "over\n",
      "a\n",
      "lazy\n",
      "dog\n"
     ]
    }
   ],
   "source": [
    "# joining\n",
    "print(\"--\".join(line.split()))\n",
    "print(\"\\n\".join(line.split()))"
   ]
  },
  {
   "cell_type": "code",
   "execution_count": 41,
   "id": "0b4c2984",
   "metadata": {},
   "outputs": [
    {
     "data": {
      "text/plain": [
       "[]"
      ]
     },
     "execution_count": 41,
     "metadata": {},
     "output_type": "execute_result"
    }
   ],
   "source": [
    "import re\n",
    "\n",
    "haiku = \"\"\"matsushima-ya\n",
    "aah matsushima-ya\n",
    "matsushima-ya\"\"\"\n",
    "\n",
    "re.findall('\\bm\\w+', haiku)"
   ]
  },
  {
   "cell_type": "code",
   "execution_count": null,
   "id": "b3c126c8",
   "metadata": {},
   "outputs": [],
   "source": []
  }
 ],
 "metadata": {
  "kernelspec": {
   "display_name": "unity_python_zeromq",
   "language": "python",
   "name": "unity_python_zeromq"
  },
  "language_info": {
   "codemirror_mode": {
    "name": "ipython",
    "version": 3
   },
   "file_extension": ".py",
   "mimetype": "text/x-python",
   "name": "python",
   "nbconvert_exporter": "python",
   "pygments_lexer": "ipython3",
   "version": "3.7.7"
  }
 },
 "nbformat": 4,
 "nbformat_minor": 5
}
